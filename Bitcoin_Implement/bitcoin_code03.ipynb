{
 "cells": [
  {
   "cell_type": "code",
   "execution_count": 19,
   "metadata": {},
   "outputs": [
    {
     "name": "stdout",
     "output_type": "stream",
     "text": [
      "개인 키: 5528fb286cfe3ae67410e60b98fcdb2b2086e84ef8771178160b5676812c6288\n",
      "공개 키: 043be1825106d81b8d0d9df43a12d585b0060ce1616945693dcba1e5e651e194fb6fb8a1f584fe0b3a9c4513150a3485e8eaf31d38c26fcd3f1d1adc9a161120da\n",
      "나만의 코인 지갑 주소: 1CwNrGJrJYYcH6v2r8dyRBb3odEAA2d5CW\n"
     ]
    }
   ],
   "source": [
    "import os\n",
    "import ecdsa\n",
    "import hashlib\n",
    "import base58\n",
    "\n",
    "class Wallet:\n",
    "    def __init__(self):\n",
    "        \"\"\" 새로운 비트코인 월렛 생성 \"\"\"\n",
    "        # 1. 개인 키 생성\n",
    "        self.private_key = self._generate_private_key()\n",
    "        # 2. 공개 키 생성\n",
    "        self.public_key = self._generate_public_key(self.private_key)\n",
    "        # 3. 비트코인 주소 생성\n",
    "        self.address = self._generate_address(self.public_key)\n",
    "\n",
    "    def _generate_private_key(self) -> bytes:\n",
    "        \"\"\" 32바이트 랜덤 개인 키 생성 \"\"\"\n",
    "        return os.urandom(32)\n",
    "\n",
    "    def _generate_public_key(self, private_key: bytes) -> bytes:\n",
    "        \"\"\" 타원 곡선 연산을 이용해 공개 키 생성 \"\"\"\n",
    "        sk = ecdsa.SigningKey.from_string(private_key, curve=ecdsa.SECP256k1)\n",
    "        vk = sk.verifying_key\n",
    "        return b'\\x04' + vk.to_string()  # 비압축 공개 키\n",
    "\n",
    "    def _generate_address(self, public_key: bytes) -> str:\n",
    "        \"\"\" 비트코인 주소 생성 (SHA-256 → RIPEMD-160 → Base58Check) \"\"\"\n",
    "        # 1. SHA-256 해싱\n",
    "        sha256_pub = hashlib.sha256(public_key).digest()\n",
    "        # 2. RIPEMD-160 해싱\n",
    "        ripemd160_pub = hashlib.new('ripemd160', sha256_pub).digest()\n",
    "        # 3. 네트워크 바이트 추가 (0x00 for Mainnet)\n",
    "        network_byte = b'\\x00' + ripemd160_pub\n",
    "        # 4. 더블 SHA-256 해싱하여 체크섬 생성\n",
    "        checksum = hashlib.sha256(hashlib.sha256(network_byte).digest()).digest()[:4]\n",
    "        # 5. Base58Check 인코딩\n",
    "        address = base58.b58encode(network_byte + checksum).decode()\n",
    "        return address\n",
    "\n",
    "    def get_private_key_hex(self) -> str:\n",
    "        \"\"\" 개인 키를 16진수 문자열로 반환 \"\"\"\n",
    "        return self.private_key.hex()\n",
    "\n",
    "    def get_public_key_hex(self) -> str:\n",
    "        \"\"\" 공개 키를 16진수 문자열로 반환 \"\"\"\n",
    "        return self.public_key.hex()\n",
    "\n",
    "    def get_address(self) -> str:\n",
    "        \"\"\" 생성된 나만의 코인 주소 반환 \"\"\"\n",
    "        return self.address\n",
    "\n",
    "    def get_balance(self, blockchain) -> float:\n",
    "        \"\"\" 주어진 블록체인에서 이 주소의 잔액 계산 \"\"\"\n",
    "        received = 0\n",
    "        sent = 0\n",
    "        address = self.get_address()\n",
    "        \n",
    "        for block in blockchain.chain:\n",
    "            transactions = block.get('transactions', [])\n",
    "            for tx in transactions:\n",
    "                if tx['receiver'] == address:\n",
    "                    received += tx['amount']\n",
    "                if tx['sender'] == address:\n",
    "                    sent += tx['amount']\n",
    "        \n",
    "        return received - sent\n",
    "\n",
    "# 테스트 실행\n",
    "wallet = Wallet()\n",
    "print(f\"개인 키: {wallet.get_private_key_hex()}\")\n",
    "print(f\"공개 키: {wallet.get_public_key_hex()}\")\n",
    "print(f\"나만의 코인 지갑 주소: {wallet.get_address()}\")\n"
   ]
  },
  {
   "cell_type": "markdown",
   "metadata": {},
   "source": [
    "# \t단순 계좌 기반 모델 (Account-based) Transaction"
   ]
  },
  {
   "cell_type": "code",
   "execution_count": 20,
   "metadata": {},
   "outputs": [],
   "source": [
    "import json\n",
    "import ecdsa\n",
    "\n",
    "class Transaction:\n",
    "    def __init__(self, sender: str, receiver: str, amount: float):\n",
    "        \"\"\" 트랜잭션 생성 \"\"\"\n",
    "        self.sender = sender\n",
    "        self.receiver = receiver\n",
    "        self.amount = amount\n",
    "        self.signature = None  # 서명 추가 예정\n",
    "\n",
    "    def to_dict(self):\n",
    "        \"\"\" 트랜잭션을 딕셔너리로 변환 \"\"\"\n",
    "        return {\n",
    "            \"sender\": self.sender,\n",
    "            \"receiver\": self.receiver,\n",
    "            \"amount\": self.amount\n",
    "        }\n",
    "\n",
    "    def sign_transaction(self, private_key_hex: str):\n",
    "        \"\"\" 개인 키로 트랜잭션 서명 \"\"\"\n",
    "        private_key_bytes = bytes.fromhex(private_key_hex)\n",
    "        sk = ecdsa.SigningKey.from_string(private_key_bytes, curve=ecdsa.SECP256k1)\n",
    "        message = json.dumps(self.to_dict(), sort_keys=True).encode()\n",
    "        self.signature = sk.sign(message).hex()\n",
    "\n",
    "    def verify_transaction(self, public_key_hex: str) -> bool:\n",
    "        \"\"\" 공개 키를 사용하여 서명 검증 \"\"\"\n",
    "        public_key_bytes = bytes.fromhex(public_key_hex)\n",
    "\n",
    "    ## 공개 키가 비압축(65바이트)이면 첫 번째 바이트 제거, 압축(33바이트)이면 그대로 사용\n",
    "        if len(public_key_bytes) == 65 and public_key_bytes[0] == 0x04:\n",
    "            public_key_bytes = public_key_bytes[1:]\n",
    "\n",
    "        try:\n",
    "            vk = ecdsa.VerifyingKey.from_string(public_key_bytes, curve=ecdsa.SECP256k1)\n",
    "            message = json.dumps(self.to_dict(), sort_keys=True).encode()\n",
    "            return vk.verify(bytes.fromhex(self.signature), message)\n",
    "        except ecdsa.BadSignatureError:\n",
    "            return False\n",
    "        except Exception as e:\n",
    "            print(f\"❌ 공개 키 오류: {e}\")\n",
    "            return False\n",
    "        \n",
    "    def get_sender_private_key(self, sender_wallet_address):\n",
    "        if sender_wallet_address == self.sender: \n",
    "            return self._sender_private_key\n",
    "        else:\n",
    "            return None\n",
    "\n"
   ]
  },
  {
   "cell_type": "code",
   "execution_count": null,
   "metadata": {},
   "outputs": [],
   "source": [
    "import datetime as _dt\n",
    "import hashlib as _hashlib\n",
    "import json as _json \n",
    "\n",
    "class Blockchain:\n",
    "    def __init__(self):\n",
    "        self.chain = []\n",
    "        self.pending_transactions = []  # 대기 중인 트랜잭션 목록\n",
    "        initial_block = self._create_block(\n",
    "\n",
    "            data = \"genesis block\", \n",
    "            proof = 1, \n",
    "            previous_hash = \"0\", \n",
    "            index = 1\n",
    "            \n",
    "        )\n",
    "        self.chain.append(initial_block)\n",
    "        \n",
    "    def get_previous_block(self) -> dict : \n",
    "        return self.chain[-1] \n",
    "        \n",
    "    def _hash(self, block : dict)-> str :\n",
    "        encoded_block = _json.dumps(block, sort_keys = True).encode()\n",
    "        return _hashlib.sha256(encoded_block).hexdigest() \n",
    "        \n",
    "    def mine_block(self, data : str, miner_address : str, miner_public_key : str) -> dict : \n",
    "        previous_block  = self.get_previous_block()\n",
    "        previous_proof  = previous_block[\"proof\"]\n",
    "        index           = len(self.chain) + 1 \n",
    "        data            = json.dumps({\"name\" : f\"{data}\", \"transaction\": [tx.to_dict() for tx in self.pending_transactions]})\n",
    "        proof           = self._proof_of_work(\n",
    "            \n",
    "            previous_proof  = previous_proof, \n",
    "            index           = index, \n",
    "            data            = data\n",
    "            \n",
    "        )   \n",
    "        previous_hash   = self._hash(block=previous_block)\n",
    "        block           = self._create_block(\n",
    "            \n",
    "            data            = data, \n",
    "            proof           = proof, \n",
    "            previous_hash   = previous_hash, \n",
    "            index           = index \n",
    "            \n",
    "        )\n",
    "        # 블록에 트랜잭션 포함 후 초기화\n",
    "        self.chain.append(block)\n",
    "        self.pending_transactions = []  # 트랜잭션 목록 초기화\n",
    "\n",
    "        # 채굴자에게 보상 지급 (새로운 트랜잭션 추가)\n",
    "        reward_tx = Transaction(sender= \"Coinbase\", receiver=miner_address, amount=10.0)\n",
    "        self.add_transaction(reward_tx, miner_public_key)\n",
    "        return block \n",
    "    \n",
    "    def _create_block(self, data : str, proof : int, previous_hash : str, index : int) -> dict : \n",
    "        block = {\n",
    "            \"index\"         : index, \n",
    "            \"timestamp\"     : str(_dt.datetime.now()), \n",
    "            \"data\"          : data, \n",
    "            \"proof\"         : proof,\n",
    "            \"previous_hash\" : previous_hash, \n",
    "            \"transactions\"  : self.pending_transactions.copy()\n",
    "        }\n",
    "        return block \n",
    "\n",
    "    def add_transaction(self, transaction: Transaction, public_key: str) -> bool:\n",
    "        \"\"\" 유효한 트랜잭션을 대기 목록에 추가 \"\"\"\n",
    "        if transaction.sender == \"Coinbase\" : \n",
    "            self.pending_transactions.append(transaction)\n",
    "            return True \n",
    "        if transaction.sender and transaction.verify_transaction(public_key):\n",
    "            self.pending_transactions.append(transaction)\n",
    "            return True            \n",
    "        return False\n",
    "    \n",
    "    \n",
    "\n",
    "# 난이도 조절 \n",
    "    def _calc_hash(self, new_proof : int, previous_proof : int, index : int, data :str) -> bytes:\n",
    "        to_digest = f\"{new_proof**2 - previous_proof**2 + index}{data}\"\n",
    "        utf_str = to_digest.encode()\n",
    "    ## SHA-256 해시 한 번 더 계산 (올바르게 적용)\n",
    "        return _hashlib.sha256(utf_str).hexdigest().encode()\n",
    "        \n",
    "    def _proof_of_work(self, previous_proof : int, index : int, data : str) -> int : \n",
    "        new_proof = 1\n",
    "        check_proof = False \n",
    "        \n",
    "        while not check_proof : \n",
    "            to_digest       = self._calc_hash(new_proof, previous_proof, index, data)\n",
    "            hash_operation  = _hashlib.sha256(to_digest).hexdigest()\n",
    "            if hash_operation[:4] == \"0000\" : \n",
    "                check_proof = True \n",
    "            else : \n",
    "                new_proof += 1 \n",
    "                \n",
    "        return new_proof "
   ]
  },
  {
   "cell_type": "code",
   "execution_count": 22,
   "metadata": {},
   "outputs": [
    {
     "data": {
      "text/plain": [
       "[{'index': 1,\n",
       "  'timestamp': '2025-04-11 10:51:15.177121',\n",
       "  'data': 'genesis block',\n",
       "  'proof': 1,\n",
       "  'previous_hash': '0'}]"
      ]
     },
     "execution_count": 22,
     "metadata": {},
     "output_type": "execute_result"
    }
   ],
   "source": [
    "block_chain = Blockchain() \n",
    "block_chain.chain"
   ]
  },
  {
   "cell_type": "code",
   "execution_count": 23,
   "metadata": {},
   "outputs": [
    {
     "data": {
      "text/plain": [
       "{'index': 2,\n",
       " 'timestamp': '2025-04-11 10:51:17.192073',\n",
       " 'data': '{\"name\": \"Coinbase\", \"transaction\": []}',\n",
       " 'proof': 60386,\n",
       " 'previous_hash': '4b339b3dfbccc02eb9b2386570d0a9fb17c7b0f5c9061738402546a395d60ee6'}"
      ]
     },
     "execution_count": 23,
     "metadata": {},
     "output_type": "execute_result"
    }
   ],
   "source": [
    "block_chain.mine_block(\n",
    "    data = \"Coinbase\", \n",
    "    miner_address = wallet.get_address(), \n",
    "    miner_public_key = wallet.get_public_key_hex()\n",
    ")"
   ]
  },
  {
   "cell_type": "code",
   "execution_count": 24,
   "metadata": {},
   "outputs": [
    {
     "name": "stdout",
     "output_type": "stream",
     "text": [
      "[<__main__.Transaction object at 0x000001F603DCF490>]\n",
      "[{'index': 1, 'timestamp': '2025-04-11 10:51:15.177121', 'data': 'genesis block', 'proof': 1, 'previous_hash': '0'}, {'index': 2, 'timestamp': '2025-04-11 10:51:17.192073', 'data': '{\"name\": \"Coinbase\", \"transaction\": []}', 'proof': 60386, 'previous_hash': '4b339b3dfbccc02eb9b2386570d0a9fb17c7b0f5c9061738402546a395d60ee6'}]\n",
      "Coinbase\n",
      "1CwNrGJrJYYcH6v2r8dyRBb3odEAA2d5CW == 1CwNrGJrJYYcH6v2r8dyRBb3odEAA2d5CW\n"
     ]
    }
   ],
   "source": [
    "print(block_chain.pending_transactions)\n",
    "print(block_chain.chain)\n",
    "print(block_chain.pending_transactions[-1].sender)\n",
    "print(f\"{block_chain.pending_transactions[-1].receiver} == {wallet.get_address()}\")"
   ]
  },
  {
   "cell_type": "code",
   "execution_count": 25,
   "metadata": {},
   "outputs": [
    {
     "name": "stdout",
     "output_type": "stream",
     "text": [
      "잔액: 0 BTC\n"
     ]
    }
   ],
   "source": [
    "wallet.get_balance(block_chain)\n",
    "print(f\"잔액: {wallet.get_balance(block_chain)} BTC\")"
   ]
  },
  {
   "cell_type": "code",
   "execution_count": 191,
   "metadata": {},
   "outputs": [
    {
     "name": "stdout",
     "output_type": "stream",
     "text": [
      "15opEeBm2hnwPk1F5rRQ3sGPfJ5kftsYoR\n"
     ]
    }
   ],
   "source": [
    "miner_wallet = Wallet() \n",
    "print(miner_wallet.get_address())"
   ]
  },
  {
   "cell_type": "code",
   "execution_count": null,
   "metadata": {},
   "outputs": [
    {
     "name": "stdout",
     "output_type": "stream",
     "text": [
      "채굴자 주소: 15opEeBm2hnwPk1F5rRQ3sGPfJ5kftsYoR\n",
      "송신자 주소: 1N7eojVALbe35X8VE5mUXazNM2kp8vBy4M\n",
      "수신자 주소: 1F7N3TpCst92qc69yepvVisH8UPfLzTmbp\n",
      "True\n",
      "트랜잭션 추가 성공 여부: True\n",
      "새로운 블록이 채굴됨: {'index': 9, 'timestamp': '2025-03-11 18:56:46.663397', 'data': '{\"name\": \"9th_block_250311\", \"transaction\": [{\"sender\": \"Coinbase\", \"receiver\": \"15opEeBm2hnwPk1F5rRQ3sGPfJ5kftsYoR\", \"amount\": 10.0}, {\"sender\": \"1N7eojVALbe35X8VE5mUXazNM2kp8vBy4M\", \"receiver\": \"1F7N3TpCst92qc69yepvVisH8UPfLzTmbp\", \"amount\": 2.0}]}', 'proof': 69726, 'previous_hash': '10a6081d7490c18b7613759513b63002951d2a16a2f20b0a1a853f67c5f9d55b'}\n",
      "블록체인 상태:\n",
      "{'index': 1, 'timestamp': '2025-03-11 18:54:28.820244', 'data': 'genesis block', 'proof': 1, 'previous_hash': '0'}\n",
      "{'index': 2, 'timestamp': '2025-03-11 18:54:29.937531', 'data': '{\"name\": \"1th_block_250311\", \"transaction\": []}', 'proof': 143123, 'previous_hash': '53e899c608d127b040ee57cc996fff58c2666af17fb33ea53af1dc81cc74693a'}\n",
      "{'index': 3, 'timestamp': '2025-03-11 18:54:30.031461', 'data': '{\"name\": \"2th_block_250311\", \"transaction\": [{\"sender\": \"Coinbase\", \"receiver\": \"1N7eojVALbe35X8VE5mUXazNM2kp8vBy4M\", \"amount\": 10.0}]}', 'proof': 42228, 'previous_hash': '0df67d216cf155088f568f0bd2093dfb01a58b3b6f6505c047611f1e3815df40'}\n",
      "{'index': 4, 'timestamp': '2025-03-11 18:54:30.253460', 'data': '{\"name\": \"3th_block_250311\", \"transaction\": [{\"sender\": \"Coinbase\", \"receiver\": \"1N7eojVALbe35X8VE5mUXazNM2kp8vBy4M\", \"amount\": 10.0}]}', 'proof': 102936, 'previous_hash': '8c10ba98c2b71faec60b4b482d678f1b7c1b0eab5410dfdccf94f4e4f3525b46'}\n",
      "{'index': 5, 'timestamp': '2025-03-11 18:54:30.295460', 'data': '{\"name\": \"4th_block_250311\", \"transaction\": [{\"sender\": \"Coinbase\", \"receiver\": \"1N7eojVALbe35X8VE5mUXazNM2kp8vBy4M\", \"amount\": 10.0}]}', 'proof': 19254, 'previous_hash': 'd3622b9558ad6ea457f1051fec6fa116cfba1ac28fc0db9a05c81187d7314641'}\n",
      "{'index': 6, 'timestamp': '2025-03-11 18:54:30.325460', 'data': '{\"name\": \"5th_block_250311\", \"transaction\": [{\"sender\": \"Coinbase\", \"receiver\": \"1N7eojVALbe35X8VE5mUXazNM2kp8vBy4M\", \"amount\": 10.0}]}', 'proof': 14117, 'previous_hash': '4eb6602a41844c4b90c2195d917a4cc6e2f59eec41096903453f385344e9425c'}\n",
      "{'index': 7, 'timestamp': '2025-03-11 18:54:32.526549', 'data': '{\"name\": \"7th_block_250311\", \"transaction\": [{\"sender\": \"Coinbase\", \"receiver\": \"1N7eojVALbe35X8VE5mUXazNM2kp8vBy4M\", \"amount\": 10.0}]}', 'proof': 81, 'previous_hash': '04027f8da6495718d13f270c8120e576c8001762f80d4b27c3614c532c6bdab9'}\n",
      "{'index': 8, 'timestamp': '2025-03-11 18:56:33.327264', 'data': '{\"name\": \"8th_block_250311\", \"transaction\": [{\"sender\": \"Coinbase\", \"receiver\": \"15opEeBm2hnwPk1F5rRQ3sGPfJ5kftsYoR\", \"amount\": 10.0}, {\"sender\": \"1N7eojVALbe35X8VE5mUXazNM2kp8vBy4M\", \"receiver\": \"1F7N3TpCst92qc69yepvVisH8UPfLzTmbp\", \"amount\": 2.0}]}', 'proof': 29486, 'previous_hash': 'c165f2739fd006f0bbb40508f38ac68426f9a4771a2f77105f5064a7e21e814a'}\n",
      "{'index': 9, 'timestamp': '2025-03-11 18:56:46.663397', 'data': '{\"name\": \"9th_block_250311\", \"transaction\": [{\"sender\": \"Coinbase\", \"receiver\": \"15opEeBm2hnwPk1F5rRQ3sGPfJ5kftsYoR\", \"amount\": 10.0}, {\"sender\": \"1N7eojVALbe35X8VE5mUXazNM2kp8vBy4M\", \"receiver\": \"1F7N3TpCst92qc69yepvVisH8UPfLzTmbp\", \"amount\": 2.0}]}', 'proof': 69726, 'previous_hash': '10a6081d7490c18b7613759513b63002951d2a16a2f20b0a1a853f67c5f9d55b'}\n"
     ]
    }
   ],
   "source": [
    "# 블록체인과 월렛 생성\n",
    "# blockchain = Blockchain()\n",
    "sender_wallet = wallet\n",
    "receiver_wallet = receiver_wallet\n",
    "\n",
    "print(f\"채굴자 주소: {miner_wallet.get_address()}\")\n",
    "print(f\"송신자 주소: {sender_wallet.get_address()}\")\n",
    "print(f\"수신자 주소: {receiver_wallet.get_address()}\")\n",
    "\n",
    "# 트랜잭션 생성\n",
    "tx = Transaction(\n",
    "    sender=sender_wallet.get_address(),\n",
    "    receiver=receiver_wallet.get_address(),\n",
    "    amount=2.0\n",
    ")\n",
    "\n",
    "# 트랜잭션 서명\n",
    "tx.sign_transaction(sender_wallet.get_private_key_hex())\n",
    "\n",
    "# 서명 검증\n",
    "is_valid = tx.verify_transaction(sender_wallet.get_public_key_hex())\n",
    "print(is_valid)\n",
    "\n",
    "# 블록체인에 트랜잭션 추가\n",
    "is_added = block_chain.add_transaction(tx, sender_wallet.get_public_key_hex())\n",
    "print(f\"트랜잭션 추가 성공 여부: {is_added}\")\n",
    "\n",
    "# 블록 채굴 (마이너 주소는 sender_wallet의 주소 사용)\n",
    "mined_block = block_chain.mine_block(\n",
    "    data = f\"{block_chain.chain[-1]['index']+1}th_block_250311\",\n",
    "    miner_address = miner_wallet.get_address(), \n",
    "    miner_public_key= miner_wallet.get_public_key_hex()\n",
    ")\n",
    "print(\"새로운 블록이 채굴됨:\", mined_block)\n",
    "\n",
    "# 블록체인 출력\n",
    "print(\"블록체인 상태:\")\n",
    "for block in block_chain.chain:\n",
    "    print(block)"
   ]
  },
  {
   "cell_type": "code",
   "execution_count": 151,
   "metadata": {},
   "outputs": [
    {
     "data": {
      "text/plain": [
       "[{'index': 1,\n",
       "  'timestamp': '2025-03-11 18:32:15.345509',\n",
       "  'data': 'genesis block',\n",
       "  'proof': 1,\n",
       "  'previous_hash': '0'},\n",
       " {'index': 2,\n",
       "  'timestamp': '2025-03-11 18:32:16.914252',\n",
       "  'data': '0th_block_250311 []',\n",
       "  'proof': 95140,\n",
       "  'previous_hash': '1ddf4e5504ea4924f8c0b50f0a68581c763a339d28fba10cd9c5f96345f47b69'},\n",
       " {'index': 3,\n",
       "  'timestamp': '2025-03-11 18:32:16.927252',\n",
       "  'data': '1th_block_250311 [{\"sender\": \"Coinbase\", \"receiver\": \"1N7eojVALbe35X8VE5mUXazNM2kp8vBy4M\", \"amount\": 10.0}]',\n",
       "  'proof': 12720,\n",
       "  'previous_hash': '1e899477584059386e9ceb3faea521787faed394c2d5291521aa8059818d6a2d'},\n",
       " {'index': 4,\n",
       "  'timestamp': '2025-03-11 18:32:16.967253',\n",
       "  'data': '2th_block_250311 [{\"sender\": \"Coinbase\", \"receiver\": \"1N7eojVALbe35X8VE5mUXazNM2kp8vBy4M\", \"amount\": 10.0}]',\n",
       "  'proof': 38104,\n",
       "  'previous_hash': '61a8be5aaeb81959386812e9dadef1943a4eaa3f2e98251521bb158688284559'},\n",
       " {'index': 5,\n",
       "  'timestamp': '2025-03-11 18:32:17.067252',\n",
       "  'data': '3th_block_250311 [{\"sender\": \"Coinbase\", \"receiver\": \"1N7eojVALbe35X8VE5mUXazNM2kp8vBy4M\", \"amount\": 10.0}]',\n",
       "  'proof': 93074,\n",
       "  'previous_hash': '507b4efc0e74945a1f97156bfce93dff41d51f8a157eb75a01c08b296fac4bb6'},\n",
       " {'index': 6,\n",
       "  'timestamp': '2025-03-11 18:32:17.112252',\n",
       "  'data': '4th_block_250311 [{\"sender\": \"Coinbase\", \"receiver\": \"1N7eojVALbe35X8VE5mUXazNM2kp8vBy4M\", \"amount\": 10.0}]',\n",
       "  'proof': 41818,\n",
       "  'previous_hash': 'a7225846448a1704640c108fecd8462e7a34faba7fd7dcad14b3c4ffb5a91f03'},\n",
       " {'index': 7,\n",
       "  'timestamp': '2025-03-11 18:34:20.568463',\n",
       "  'data': '7th_block_250311 [{\"sender\": \"Coinbase\", \"receiver\": \"1N7eojVALbe35X8VE5mUXazNM2kp8vBy4M\", \"amount\": 10.0}, {\"sender\": \"1N7eojVALbe35X8VE5mUXazNM2kp8vBy4M\", \"receiver\": \"1FxCzchGuYyytDyrW6fHkLj41b7bYX3aaA\", \"amount\": 2.0}]',\n",
       "  'proof': 136688,\n",
       "  'previous_hash': '98cf6d4fa4c73718eda5cb484e1dd283682dba6efa6cb7979270d3c29858e785'}]"
      ]
     },
     "execution_count": 151,
     "metadata": {},
     "output_type": "execute_result"
    }
   ],
   "source": [
    "block_chain.chain"
   ]
  },
  {
   "cell_type": "code",
   "execution_count": 198,
   "metadata": {},
   "outputs": [
    {
     "data": {
      "text/plain": [
       "{'sender': 'Coinbase',\n",
       " 'receiver': '15opEeBm2hnwPk1F5rRQ3sGPfJ5kftsYoR',\n",
       " 'amount': 10.0}"
      ]
     },
     "execution_count": 198,
     "metadata": {},
     "output_type": "execute_result"
    }
   ],
   "source": [
    "block_chain.pending_transactions[-1].to_dict()"
   ]
  },
  {
   "cell_type": "code",
   "execution_count": 195,
   "metadata": {},
   "outputs": [
    {
     "name": "stdout",
     "output_type": "stream",
     "text": [
      "Coinbase -> 15opEeBm2hnwPk1F5rRQ3sGPfJ5kftsYoR : 10.0 BTC\n",
      "서명: None\n",
      "트랜잭션 유효성: True\n"
     ]
    }
   ],
   "source": [
    "check_sender = block_chain.pending_transactions[-1].sender \n",
    "check_reciever = block_chain.pending_transactions[-1].receiver\n",
    "check_amount = block_chain.pending_transactions[-1].amount\n",
    "check_signature = block_chain.pending_transactions[-1].signature\n",
    "\n",
    "print(f\"{check_sender} -> {check_reciever} : {check_amount} BTC\")\n",
    "print(f\"서명: {check_signature}\")\n",
    "print(f\"트랜잭션 유효성: {is_valid}\")"
   ]
  },
  {
   "cell_type": "code",
   "execution_count": null,
   "metadata": {},
   "outputs": [],
   "source": []
  }
 ],
 "metadata": {
  "kernelspec": {
   "display_name": "Python 3",
   "language": "python",
   "name": "python3"
  },
  "language_info": {
   "codemirror_mode": {
    "name": "ipython",
    "version": 3
   },
   "file_extension": ".py",
   "mimetype": "text/x-python",
   "name": "python",
   "nbconvert_exporter": "python",
   "pygments_lexer": "ipython3",
   "version": "undefined.undefined.undefined"
  }
 },
 "nbformat": 4,
 "nbformat_minor": 2
}
