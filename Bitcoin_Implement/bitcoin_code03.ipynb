{
 "cells": [
  {
   "cell_type": "code",
   "execution_count": 1,
   "metadata": {},
   "outputs": [
    {
     "name": "stdout",
     "output_type": "stream",
     "text": [
      "개인 키: 72cf669f9fd8e56b3f4b08e60f2e99a33cabf08ad0fea5b9ad5eee457bf423e7\n",
      "공개 키: 0467710d507a1b6fab637edf974726e0bb9cd77f1d217c3ea7139b804a65a1ca7860e9ee07f93b0b3e570ae2164e050a6d260c3ab68ad3acf591e19c70adc82fb0\n",
      "나만의 코인 지갑 주소: 1MKonjvZ34nthmbChNK4eBj5obdSwSBivB\n"
     ]
    }
   ],
   "source": [
    "import os\n",
    "import ecdsa\n",
    "import hashlib\n",
    "import base58\n",
    "\n",
    "class Wallet:\n",
    "    def __init__(self):\n",
    "        \"\"\" 새로운 비트코인 월렛 생성 \"\"\"\n",
    "        # 1. 개인 키 생성\n",
    "        self.private_key = self._generate_private_key()\n",
    "        # 2. 공개 키 생성\n",
    "        self.public_key = self._generate_public_key(self.private_key)\n",
    "        # 3. 비트코인 주소 생성\n",
    "        self.address = self._generate_address(self.public_key)\n",
    "\n",
    "    def _generate_private_key(self) -> bytes:\n",
    "        \"\"\" 32바이트 랜덤 개인 키 생성 \"\"\"\n",
    "        return os.urandom(32)\n",
    "\n",
    "    def _generate_public_key(self, private_key: bytes) -> bytes:\n",
    "        \"\"\" 타원 곡선 연산을 이용해 공개 키 생성 \"\"\"\n",
    "        sk = ecdsa.SigningKey.from_string(private_key, curve=ecdsa.SECP256k1)\n",
    "        vk = sk.verifying_key\n",
    "        return b'\\x04' + vk.to_string()  # 비압축 공개 키\n",
    "\n",
    "    def _generate_address(self, public_key: bytes) -> str:\n",
    "        \"\"\" 비트코인 주소 생성 (SHA-256 → RIPEMD-160 → Base58Check) \"\"\"\n",
    "        # 1. SHA-256 해싱\n",
    "        sha256_pub = hashlib.sha256(public_key).digest()\n",
    "        # 2. RIPEMD-160 해싱\n",
    "        ripemd160_pub = hashlib.new('ripemd160', sha256_pub).digest()\n",
    "        # 3. 네트워크 바이트 추가 (0x00 for Mainnet)\n",
    "        network_byte = b'\\x00' + ripemd160_pub\n",
    "        # 4. 더블 SHA-256 해싱하여 체크섬 생성\n",
    "        checksum = hashlib.sha256(hashlib.sha256(network_byte).digest()).digest()[:4]\n",
    "        # 5. Base58Check 인코딩\n",
    "        address = base58.b58encode(network_byte + checksum).decode()\n",
    "        return address\n",
    "\n",
    "    def get_private_key_hex(self) -> str:\n",
    "        \"\"\" 개인 키를 16진수 문자열로 반환 \"\"\"\n",
    "        return self.private_key.hex()\n",
    "\n",
    "    def get_public_key_hex(self) -> str:\n",
    "        \"\"\" 공개 키를 16진수 문자열로 반환 \"\"\"\n",
    "        return self.public_key.hex()\n",
    "\n",
    "    def get_address(self) -> str:\n",
    "        \"\"\" 생성된 나만의 코인 주소 반환 \"\"\"\n",
    "        return self.address\n",
    "\n",
    "# 테스트 실행\n",
    "wallet = Wallet()\n",
    "print(f\"개인 키: {wallet.get_private_key_hex()}\")\n",
    "print(f\"공개 키: {wallet.get_public_key_hex()}\")\n",
    "print(f\"나만의 코인 지갑 주소: {wallet.get_address()}\")\n"
   ]
  },
  {
   "cell_type": "markdown",
   "metadata": {},
   "source": [
    "# \t단순 계좌 기반 모델 (Account-based) Transaction"
   ]
  },
  {
   "cell_type": "code",
   "execution_count": null,
   "metadata": {},
   "outputs": [],
   "source": [
    "import json\n",
    "import ecdsa\n",
    "\n",
    "class Transaction:\n",
    "    def __init__(self, sender: str, receiver: str, amount: float):\n",
    "        \"\"\" 트랜잭션 생성 \"\"\"\n",
    "        self.sender = sender\n",
    "        self.receiver = receiver\n",
    "        self.amount = amount\n",
    "        self.signature = None  # 서명 추가 예정\n",
    "\n",
    "    def to_dict(self):\n",
    "        \"\"\" 트랜잭션을 딕셔너리로 변환 \"\"\"\n",
    "        return {\n",
    "            \"sender\": self.sender,\n",
    "            \"receiver\": self.receiver,\n",
    "            \"amount\": self.amount\n",
    "        }\n",
    "\n",
    "    def sign_transaction(self, private_key_hex: str):\n",
    "        \"\"\" 개인 키로 트랜잭션 서명 \"\"\"\n",
    "        private_key_bytes = bytes.fromhex(private_key_hex)\n",
    "        sk = ecdsa.SigningKey.from_string(private_key_bytes, curve=ecdsa.SECP256k1)\n",
    "        message = json.dumps(self.to_dict(), sort_keys=True).encode()\n",
    "        self.signature = sk.sign(message).hex()\n",
    "\n",
    "    def verify_transaction(self, public_key_hex: str) -> bool:\n",
    "        \"\"\" 공개 키를 사용하여 서명 검증 \"\"\"\n",
    "        public_key_bytes = bytes.fromhex(public_key_hex)\n",
    "\n",
    "    ## 공개 키가 비압축(65바이트)이면 첫 번째 바이트 제거, 압축(33바이트)이면 그대로 사용\n",
    "        if len(public_key_bytes) == 65 and public_key_bytes[0] == 0x04:\n",
    "            public_key_bytes = public_key_bytes[1:]\n",
    "\n",
    "        try:\n",
    "            vk = ecdsa.VerifyingKey.from_string(public_key_bytes, curve=ecdsa.SECP256k1)\n",
    "            message = json.dumps(self.to_dict(), sort_keys=True).encode()\n",
    "            return vk.verify(bytes.fromhex(self.signature), message)\n",
    "        except ecdsa.BadSignatureError:\n",
    "            return False\n",
    "        except Exception as e:\n",
    "            print(f\"❌ 공개 키 오류: {e}\")\n",
    "            return False\n",
    "        \n",
    "    def get_sender_private_key(self, sender_wallet_address):\n",
    "        if sender_wallet_address == self.sender: \n",
    "            return self._sender_private_key\n",
    "        else:\n",
    "            return None\n",
    "\n"
   ]
  },
  {
   "cell_type": "code",
   "execution_count": 187,
   "metadata": {},
   "outputs": [
    {
     "data": {
      "text/plain": [
       "[{'index': 1,\n",
       "  'timestamp': '2025-03-11 18:54:28.820244',\n",
       "  'data': 'genesis block',\n",
       "  'proof': 1,\n",
       "  'previous_hash': '0'}]"
      ]
     },
     "execution_count": 187,
     "metadata": {},
     "output_type": "execute_result"
    }
   ],
   "source": [
    "block_chain = Blockchain() \n",
    "block_chain.chain"
   ]
  },
  {
   "cell_type": "code",
   "execution_count": 188,
   "metadata": {},
   "outputs": [],
   "source": [
    "import json \n",
    "\n",
    "for cnt in range(5):\n",
    "    block_chain.mine_block(\n",
    "        data = f\"{block_chain.chain[-1]['index']}th_block_250311\",\n",
    "        miner_address = wallet.get_address(), \n",
    "        miner_public_key = wallet.get_public_key_hex()\n",
    "    )"
   ]
  },
  {
   "cell_type": "code",
   "execution_count": 189,
   "metadata": {},
   "outputs": [
    {
     "data": {
      "text/plain": [
       "[{'index': 1,\n",
       "  'timestamp': '2025-03-11 18:54:28.820244',\n",
       "  'data': 'genesis block',\n",
       "  'proof': 1,\n",
       "  'previous_hash': '0'},\n",
       " {'index': 2,\n",
       "  'timestamp': '2025-03-11 18:54:29.937531',\n",
       "  'data': '{\"name\": \"1th_block_250311\", \"transaction\": []}',\n",
       "  'proof': 143123,\n",
       "  'previous_hash': '53e899c608d127b040ee57cc996fff58c2666af17fb33ea53af1dc81cc74693a'},\n",
       " {'index': 3,\n",
       "  'timestamp': '2025-03-11 18:54:30.031461',\n",
       "  'data': '{\"name\": \"2th_block_250311\", \"transaction\": [{\"sender\": \"Coinbase\", \"receiver\": \"1N7eojVALbe35X8VE5mUXazNM2kp8vBy4M\", \"amount\": 10.0}]}',\n",
       "  'proof': 42228,\n",
       "  'previous_hash': '0df67d216cf155088f568f0bd2093dfb01a58b3b6f6505c047611f1e3815df40'},\n",
       " {'index': 4,\n",
       "  'timestamp': '2025-03-11 18:54:30.253460',\n",
       "  'data': '{\"name\": \"3th_block_250311\", \"transaction\": [{\"sender\": \"Coinbase\", \"receiver\": \"1N7eojVALbe35X8VE5mUXazNM2kp8vBy4M\", \"amount\": 10.0}]}',\n",
       "  'proof': 102936,\n",
       "  'previous_hash': '8c10ba98c2b71faec60b4b482d678f1b7c1b0eab5410dfdccf94f4e4f3525b46'},\n",
       " {'index': 5,\n",
       "  'timestamp': '2025-03-11 18:54:30.295460',\n",
       "  'data': '{\"name\": \"4th_block_250311\", \"transaction\": [{\"sender\": \"Coinbase\", \"receiver\": \"1N7eojVALbe35X8VE5mUXazNM2kp8vBy4M\", \"amount\": 10.0}]}',\n",
       "  'proof': 19254,\n",
       "  'previous_hash': 'd3622b9558ad6ea457f1051fec6fa116cfba1ac28fc0db9a05c81187d7314641'},\n",
       " {'index': 6,\n",
       "  'timestamp': '2025-03-11 18:54:30.325460',\n",
       "  'data': '{\"name\": \"5th_block_250311\", \"transaction\": [{\"sender\": \"Coinbase\", \"receiver\": \"1N7eojVALbe35X8VE5mUXazNM2kp8vBy4M\", \"amount\": 10.0}]}',\n",
       "  'proof': 14117,\n",
       "  'previous_hash': '4eb6602a41844c4b90c2195d917a4cc6e2f59eec41096903453f385344e9425c'}]"
      ]
     },
     "execution_count": 189,
     "metadata": {},
     "output_type": "execute_result"
    }
   ],
   "source": [
    "block_chain.chain"
   ]
  },
  {
   "cell_type": "code",
   "execution_count": 190,
   "metadata": {},
   "outputs": [
    {
     "name": "stdout",
     "output_type": "stream",
     "text": [
      "1F7N3TpCst92qc69yepvVisH8UPfLzTmbp\n"
     ]
    }
   ],
   "source": [
    "receiver_wallet = Wallet()\n",
    "print(receiver_wallet.get_address())"
   ]
  },
  {
   "cell_type": "code",
   "execution_count": 191,
   "metadata": {},
   "outputs": [
    {
     "name": "stdout",
     "output_type": "stream",
     "text": [
      "15opEeBm2hnwPk1F5rRQ3sGPfJ5kftsYoR\n"
     ]
    }
   ],
   "source": [
    "miner_wallet = Wallet() \n",
    "print(miner_wallet.get_address())"
   ]
  },
  {
   "cell_type": "code",
   "execution_count": null,
   "metadata": {},
   "outputs": [
    {
     "name": "stdout",
     "output_type": "stream",
     "text": [
      "채굴자 주소: 15opEeBm2hnwPk1F5rRQ3sGPfJ5kftsYoR\n",
      "송신자 주소: 1N7eojVALbe35X8VE5mUXazNM2kp8vBy4M\n",
      "수신자 주소: 1F7N3TpCst92qc69yepvVisH8UPfLzTmbp\n",
      "True\n",
      "트랜잭션 추가 성공 여부: True\n",
      "새로운 블록이 채굴됨: {'index': 9, 'timestamp': '2025-03-11 18:56:46.663397', 'data': '{\"name\": \"9th_block_250311\", \"transaction\": [{\"sender\": \"Coinbase\", \"receiver\": \"15opEeBm2hnwPk1F5rRQ3sGPfJ5kftsYoR\", \"amount\": 10.0}, {\"sender\": \"1N7eojVALbe35X8VE5mUXazNM2kp8vBy4M\", \"receiver\": \"1F7N3TpCst92qc69yepvVisH8UPfLzTmbp\", \"amount\": 2.0}]}', 'proof': 69726, 'previous_hash': '10a6081d7490c18b7613759513b63002951d2a16a2f20b0a1a853f67c5f9d55b'}\n",
      "블록체인 상태:\n",
      "{'index': 1, 'timestamp': '2025-03-11 18:54:28.820244', 'data': 'genesis block', 'proof': 1, 'previous_hash': '0'}\n",
      "{'index': 2, 'timestamp': '2025-03-11 18:54:29.937531', 'data': '{\"name\": \"1th_block_250311\", \"transaction\": []}', 'proof': 143123, 'previous_hash': '53e899c608d127b040ee57cc996fff58c2666af17fb33ea53af1dc81cc74693a'}\n",
      "{'index': 3, 'timestamp': '2025-03-11 18:54:30.031461', 'data': '{\"name\": \"2th_block_250311\", \"transaction\": [{\"sender\": \"Coinbase\", \"receiver\": \"1N7eojVALbe35X8VE5mUXazNM2kp8vBy4M\", \"amount\": 10.0}]}', 'proof': 42228, 'previous_hash': '0df67d216cf155088f568f0bd2093dfb01a58b3b6f6505c047611f1e3815df40'}\n",
      "{'index': 4, 'timestamp': '2025-03-11 18:54:30.253460', 'data': '{\"name\": \"3th_block_250311\", \"transaction\": [{\"sender\": \"Coinbase\", \"receiver\": \"1N7eojVALbe35X8VE5mUXazNM2kp8vBy4M\", \"amount\": 10.0}]}', 'proof': 102936, 'previous_hash': '8c10ba98c2b71faec60b4b482d678f1b7c1b0eab5410dfdccf94f4e4f3525b46'}\n",
      "{'index': 5, 'timestamp': '2025-03-11 18:54:30.295460', 'data': '{\"name\": \"4th_block_250311\", \"transaction\": [{\"sender\": \"Coinbase\", \"receiver\": \"1N7eojVALbe35X8VE5mUXazNM2kp8vBy4M\", \"amount\": 10.0}]}', 'proof': 19254, 'previous_hash': 'd3622b9558ad6ea457f1051fec6fa116cfba1ac28fc0db9a05c81187d7314641'}\n",
      "{'index': 6, 'timestamp': '2025-03-11 18:54:30.325460', 'data': '{\"name\": \"5th_block_250311\", \"transaction\": [{\"sender\": \"Coinbase\", \"receiver\": \"1N7eojVALbe35X8VE5mUXazNM2kp8vBy4M\", \"amount\": 10.0}]}', 'proof': 14117, 'previous_hash': '4eb6602a41844c4b90c2195d917a4cc6e2f59eec41096903453f385344e9425c'}\n",
      "{'index': 7, 'timestamp': '2025-03-11 18:54:32.526549', 'data': '{\"name\": \"7th_block_250311\", \"transaction\": [{\"sender\": \"Coinbase\", \"receiver\": \"1N7eojVALbe35X8VE5mUXazNM2kp8vBy4M\", \"amount\": 10.0}]}', 'proof': 81, 'previous_hash': '04027f8da6495718d13f270c8120e576c8001762f80d4b27c3614c532c6bdab9'}\n",
      "{'index': 8, 'timestamp': '2025-03-11 18:56:33.327264', 'data': '{\"name\": \"8th_block_250311\", \"transaction\": [{\"sender\": \"Coinbase\", \"receiver\": \"15opEeBm2hnwPk1F5rRQ3sGPfJ5kftsYoR\", \"amount\": 10.0}, {\"sender\": \"1N7eojVALbe35X8VE5mUXazNM2kp8vBy4M\", \"receiver\": \"1F7N3TpCst92qc69yepvVisH8UPfLzTmbp\", \"amount\": 2.0}]}', 'proof': 29486, 'previous_hash': 'c165f2739fd006f0bbb40508f38ac68426f9a4771a2f77105f5064a7e21e814a'}\n",
      "{'index': 9, 'timestamp': '2025-03-11 18:56:46.663397', 'data': '{\"name\": \"9th_block_250311\", \"transaction\": [{\"sender\": \"Coinbase\", \"receiver\": \"15opEeBm2hnwPk1F5rRQ3sGPfJ5kftsYoR\", \"amount\": 10.0}, {\"sender\": \"1N7eojVALbe35X8VE5mUXazNM2kp8vBy4M\", \"receiver\": \"1F7N3TpCst92qc69yepvVisH8UPfLzTmbp\", \"amount\": 2.0}]}', 'proof': 69726, 'previous_hash': '10a6081d7490c18b7613759513b63002951d2a16a2f20b0a1a853f67c5f9d55b'}\n"
     ]
    }
   ],
   "source": [
    "# 블록체인과 월렛 생성\n",
    "# blockchain = Blockchain()\n",
    "sender_wallet = wallet\n",
    "receiver_wallet = receiver_wallet\n",
    "\n",
    "print(f\"채굴자 주소: {miner_wallet.get_address()}\")\n",
    "print(f\"송신자 주소: {sender_wallet.get_address()}\")\n",
    "print(f\"수신자 주소: {receiver_wallet.get_address()}\")\n",
    "\n",
    "# 트랜잭션 생성\n",
    "tx = Transaction(\n",
    "    sender=sender_wallet.get_address(),\n",
    "    receiver=receiver_wallet.get_address(),\n",
    "    amount=2.0\n",
    ")\n",
    "\n",
    "# 트랜잭션 서명\n",
    "tx.sign_transaction(sender_wallet.get_private_key_hex())\n",
    "\n",
    "# 서명 검증\n",
    "is_valid = tx.verify_transaction(sender_wallet.get_public_key_hex())\n",
    "print(is_valid)\n",
    "\n",
    "# 블록체인에 트랜잭션 추가\n",
    "is_added = block_chain.add_transaction(tx, sender_wallet.get_public_key_hex())\n",
    "print(f\"트랜잭션 추가 성공 여부: {is_added}\")\n",
    "\n",
    "# 블록 채굴 (마이너 주소는 sender_wallet의 주소 사용)\n",
    "mined_block = block_chain.mine_block(\n",
    "    data = f\"{block_chain.chain[-1]['index']+1}th_block_250311\",\n",
    "    miner_address = miner_wallet.get_address(), \n",
    "    miner_public_key= miner_wallet.get_public_key_hex()\n",
    ")\n",
    "print(\"새로운 블록이 채굴됨:\", mined_block)\n",
    "\n",
    "# 블록체인 출력\n",
    "print(\"블록체인 상태:\")\n",
    "for block in block_chain.chain:\n",
    "    print(block)"
   ]
  },
  {
   "cell_type": "code",
   "execution_count": 151,
   "metadata": {},
   "outputs": [
    {
     "data": {
      "text/plain": [
       "[{'index': 1,\n",
       "  'timestamp': '2025-03-11 18:32:15.345509',\n",
       "  'data': 'genesis block',\n",
       "  'proof': 1,\n",
       "  'previous_hash': '0'},\n",
       " {'index': 2,\n",
       "  'timestamp': '2025-03-11 18:32:16.914252',\n",
       "  'data': '0th_block_250311 []',\n",
       "  'proof': 95140,\n",
       "  'previous_hash': '1ddf4e5504ea4924f8c0b50f0a68581c763a339d28fba10cd9c5f96345f47b69'},\n",
       " {'index': 3,\n",
       "  'timestamp': '2025-03-11 18:32:16.927252',\n",
       "  'data': '1th_block_250311 [{\"sender\": \"Coinbase\", \"receiver\": \"1N7eojVALbe35X8VE5mUXazNM2kp8vBy4M\", \"amount\": 10.0}]',\n",
       "  'proof': 12720,\n",
       "  'previous_hash': '1e899477584059386e9ceb3faea521787faed394c2d5291521aa8059818d6a2d'},\n",
       " {'index': 4,\n",
       "  'timestamp': '2025-03-11 18:32:16.967253',\n",
       "  'data': '2th_block_250311 [{\"sender\": \"Coinbase\", \"receiver\": \"1N7eojVALbe35X8VE5mUXazNM2kp8vBy4M\", \"amount\": 10.0}]',\n",
       "  'proof': 38104,\n",
       "  'previous_hash': '61a8be5aaeb81959386812e9dadef1943a4eaa3f2e98251521bb158688284559'},\n",
       " {'index': 5,\n",
       "  'timestamp': '2025-03-11 18:32:17.067252',\n",
       "  'data': '3th_block_250311 [{\"sender\": \"Coinbase\", \"receiver\": \"1N7eojVALbe35X8VE5mUXazNM2kp8vBy4M\", \"amount\": 10.0}]',\n",
       "  'proof': 93074,\n",
       "  'previous_hash': '507b4efc0e74945a1f97156bfce93dff41d51f8a157eb75a01c08b296fac4bb6'},\n",
       " {'index': 6,\n",
       "  'timestamp': '2025-03-11 18:32:17.112252',\n",
       "  'data': '4th_block_250311 [{\"sender\": \"Coinbase\", \"receiver\": \"1N7eojVALbe35X8VE5mUXazNM2kp8vBy4M\", \"amount\": 10.0}]',\n",
       "  'proof': 41818,\n",
       "  'previous_hash': 'a7225846448a1704640c108fecd8462e7a34faba7fd7dcad14b3c4ffb5a91f03'},\n",
       " {'index': 7,\n",
       "  'timestamp': '2025-03-11 18:34:20.568463',\n",
       "  'data': '7th_block_250311 [{\"sender\": \"Coinbase\", \"receiver\": \"1N7eojVALbe35X8VE5mUXazNM2kp8vBy4M\", \"amount\": 10.0}, {\"sender\": \"1N7eojVALbe35X8VE5mUXazNM2kp8vBy4M\", \"receiver\": \"1FxCzchGuYyytDyrW6fHkLj41b7bYX3aaA\", \"amount\": 2.0}]',\n",
       "  'proof': 136688,\n",
       "  'previous_hash': '98cf6d4fa4c73718eda5cb484e1dd283682dba6efa6cb7979270d3c29858e785'}]"
      ]
     },
     "execution_count": 151,
     "metadata": {},
     "output_type": "execute_result"
    }
   ],
   "source": [
    "block_chain.chain"
   ]
  },
  {
   "cell_type": "code",
   "execution_count": 198,
   "metadata": {},
   "outputs": [
    {
     "data": {
      "text/plain": [
       "{'sender': 'Coinbase',\n",
       " 'receiver': '15opEeBm2hnwPk1F5rRQ3sGPfJ5kftsYoR',\n",
       " 'amount': 10.0}"
      ]
     },
     "execution_count": 198,
     "metadata": {},
     "output_type": "execute_result"
    }
   ],
   "source": [
    "block_chain.pending_transactions[-1].to_dict()"
   ]
  },
  {
   "cell_type": "code",
   "execution_count": 195,
   "metadata": {},
   "outputs": [
    {
     "name": "stdout",
     "output_type": "stream",
     "text": [
      "Coinbase -> 15opEeBm2hnwPk1F5rRQ3sGPfJ5kftsYoR : 10.0 BTC\n",
      "서명: None\n",
      "트랜잭션 유효성: True\n"
     ]
    }
   ],
   "source": [
    "check_sender = block_chain.pending_transactions[-1].sender \n",
    "check_reciever = block_chain.pending_transactions[-1].receiver\n",
    "check_amount = block_chain.pending_transactions[-1].amount\n",
    "check_signature = block_chain.pending_transactions[-1].signature\n",
    "\n",
    "print(f\"{check_sender} -> {check_reciever} : {check_amount} BTC\")\n",
    "print(f\"서명: {check_signature}\")\n",
    "print(f\"트랜잭션 유효성: {is_valid}\")"
   ]
  },
  {
   "cell_type": "code",
   "execution_count": null,
   "metadata": {},
   "outputs": [],
   "source": []
  }
 ],
 "metadata": {
  "kernelspec": {
   "display_name": "Python 3",
   "language": "python",
   "name": "python3"
  },
  "language_info": {
   "codemirror_mode": {
    "name": "ipython",
    "version": 3
   },
   "file_extension": ".py",
   "mimetype": "text/x-python",
   "name": "python",
   "nbconvert_exporter": "python",
   "pygments_lexer": "ipython3",
   "version": "undefined.undefined.undefined"
  }
 },
 "nbformat": 4,
 "nbformat_minor": 2
}
