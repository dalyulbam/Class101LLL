{
 "cells": [
  {
   "cell_type": "code",
   "execution_count": 2,
   "metadata": {},
   "outputs": [
    {
     "name": "stdout",
     "output_type": "stream",
     "text": [
      "Collecting mnemonic\n",
      "  Downloading mnemonic-0.21-py3-none-any.whl.metadata (3.4 kB)\n",
      "Collecting bip32utils\n",
      "  Downloading bip32utils-0.3.post4-py3-none-any.whl.metadata (400 bytes)\n",
      "Collecting ecdsa (from bip32utils)\n",
      "  Downloading ecdsa-0.19.0-py2.py3-none-any.whl.metadata (29 kB)\n",
      "Requirement already satisfied: six>=1.9.0 in c:\\users\\user\\appdata\\local\\programs\\python\\python311\\lib\\site-packages (from ecdsa->bip32utils) (1.16.0)\n",
      "Downloading mnemonic-0.21-py3-none-any.whl (92 kB)\n",
      "Downloading bip32utils-0.3.post4-py3-none-any.whl (9.9 kB)\n",
      "Downloading ecdsa-0.19.0-py2.py3-none-any.whl (149 kB)\n",
      "Installing collected packages: mnemonic, ecdsa, bip32utils\n",
      "Successfully installed bip32utils-0.3.post4 ecdsa-0.19.0 mnemonic-0.21\n"
     ]
    },
    {
     "name": "stderr",
     "output_type": "stream",
     "text": [
      "\n",
      "[notice] A new release of pip is available: 24.3.1 -> 25.0.1\n",
      "[notice] To update, run: python.exe -m pip install --upgrade pip\n"
     ]
    }
   ],
   "source": [
    "!pip install mnemonic bip32utils "
   ]
  },
  {
   "cell_type": "markdown",
   "metadata": {},
   "source": [
    "# HD 지갑 생성"
   ]
  },
  {
   "cell_type": "code",
   "execution_count": 3,
   "metadata": {},
   "outputs": [
    {
     "name": "stdout",
     "output_type": "stream",
     "text": [
      "시드 문구: dilemma ahead gauge segment entire country balcony skull volume grow stomach payment\n",
      "비트코인 주소: 1HdP4u6Z3EypsDexZYd8uVSGJdGcVp1gr\n",
      "공개 키: 03a0be1175ac91feb9fa7d6b06c9cfab1c56a9cffcf057f5d4d3967f74f840a808\n",
      "개인 키 (WIF): KyRnC3XyKz5Y6GSd3mQBdacazPi6UqhdcFawhuQn7N9oyVkECNRa\n"
     ]
    }
   ],
   "source": [
    "from mnemonic import Mnemonic\n",
    "import bip32utils\n",
    "import hashlib\n",
    "import hmac\n",
    "\n",
    "# 1. 시드 문구 생성 (BIP39)\n",
    "mnemo = Mnemonic(\"english\")\n",
    "seed_phrase = mnemo.generate(strength=128)  # 12개 단어\n",
    "print(f\"시드 문구: {seed_phrase}\")\n",
    "\n",
    "# 2. 시드 문구를 512비트 시드로 변환\n",
    "seed = mnemo.to_seed(seed_phrase)\n",
    "\n",
    "# 3. 마스터 키 생성 (BIP32)\n",
    "master_key = bip32utils.BIP32Key.fromEntropy(seed)\n",
    "\n",
    "# 4. HD 지갑에서 첫 번째 계정(0번) 생성 (BIP44 경로: m/44'/0'/0'/0/0)\n",
    "purpose = master_key.ChildKey(44 + bip32utils.BIP32_HARDEN)  # BIP44\n",
    "coin_type = purpose.ChildKey(0 + bip32utils.BIP32_HARDEN)  # 비트코인 (BTC)\n",
    "account = coin_type.ChildKey(0 + bip32utils.BIP32_HARDEN)  # 첫 번째 계정\n",
    "change = account.ChildKey(0)  # 외부 주소\n",
    "address_index = change.ChildKey(0)  # 첫 번째 주소\n",
    "\n",
    "# 5. 주소 및 키 출력\n",
    "print(f\"비트코인 주소: {address_index.Address()}\")\n",
    "print(f\"공개 키: {address_index.PublicKey().hex()}\")\n",
    "print(f\"개인 키 (WIF): {address_index.WalletImportFormat()}\")"
   ]
  },
  {
   "cell_type": "code",
   "execution_count": null,
   "metadata": {},
   "outputs": [],
   "source": []
  }
 ],
 "metadata": {
  "kernelspec": {
   "display_name": "Python 3",
   "language": "python",
   "name": "python3"
  },
  "language_info": {
   "codemirror_mode": {
    "name": "ipython",
    "version": 3
   },
   "file_extension": ".py",
   "mimetype": "text/x-python",
   "name": "python",
   "nbconvert_exporter": "python",
   "pygments_lexer": "ipython3",
   "version": "3.11.8"
  }
 },
 "nbformat": 4,
 "nbformat_minor": 2
}
