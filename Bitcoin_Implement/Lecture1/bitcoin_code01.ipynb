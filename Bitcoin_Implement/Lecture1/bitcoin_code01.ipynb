{
 "cells": [
  {
   "cell_type": "markdown",
   "metadata": {},
   "source": [
    "# Basic Bitcoin "
   ]
  },
  {
   "cell_type": "code",
   "execution_count": null,
   "metadata": {},
   "outputs": [],
   "source": [
    "import datetime as _dt\n",
    "import hashlib as _hashlib\n",
    "import json as _json \n",
    "\n",
    "class Blockchain:\n",
    "    def __init__(self):\n",
    "        self.chain = []\n",
    "        initial_block = self._create_block(\n",
    "\n",
    "            data = \"genesis block\", \n",
    "            proof = 1, \n",
    "            previous_hash = \"0\", \n",
    "            index = 1\n",
    "            \n",
    "        )\n",
    "        self.chain.append(initial_block)\n",
    "        \n",
    "    def get_previous_block(self) -> dict : \n",
    "        return self.chain[-1] \n",
    "        \n",
    "    def _hash(self, block : dict)-> str :\n",
    "        encoded_block = _json.dumps(block, sort_keys = True).encode()\n",
    "        return _hashlib.sha256(encoded_block).hexdigest() \n",
    "        \n",
    "    def mine_block(self, data : str) -> dict : \n",
    "        previous_block  = self.get_previous_block()\n",
    "        previous_proof  = previous_block[\"proof\"]\n",
    "        index           = len(self.chain) + 1 \n",
    "        proof           = self._proof_of_work(\n",
    "            \n",
    "            previous_proof  = previous_proof, \n",
    "            index           = index, \n",
    "            data            = data\n",
    "            \n",
    "        )   \n",
    "        previous_hash   = self._hash(block=previous_block)\n",
    "        block           = self._create_block(\n",
    "            \n",
    "            data            = data, \n",
    "            proof           = proof, \n",
    "            previous_hash   = previous_hash, \n",
    "            index           = index \n",
    "            \n",
    "        )\n",
    "        self.chain.append(block)\n",
    "        return block \n",
    "    \n",
    "    def _create_block(self, data : str, proof : int, previous_hash : str, index : int) -> dict : \n",
    "        block = {\n",
    "            \"index\"         : index, \n",
    "            \"timestamp\"     : str(_dt.datetime.now()), \n",
    "            \"data\"          : data, \n",
    "            \"proof\"         : proof,\n",
    "            \"previous_hash\" : previous_hash\n",
    "        }\n",
    "        return block \n",
    "    \n",
    "    def _calc_hash(self, new_proof : int, previous_proof : int, index : int, data :str) -> bytes:\n",
    "        to_digest = str(new_proof**2 - previous_proof**2 + index) + data \n",
    "        return to_digest.encode() \n",
    "    \n",
    "    def _proof_of_work(self, previous_proof : int, index : int, data : str) -> int : \n",
    "        new_proof = 1 # nonce \n",
    "        check_proof = False \n",
    "        \n",
    "        while not check_proof : \n",
    "            to_digest       = self._calc_hash(new_proof, previous_proof, index, data)\n",
    "            hash_operation  = _hashlib.sha256(to_digest).hexdigest()\n",
    "            if hash_operation[:4] == \"0000\" : \n",
    "                check_proof = True \n",
    "            else : \n",
    "                new_proof += 1 \n",
    "                \n",
    "        return new_proof "
   ]
  },
  {
   "cell_type": "code",
   "execution_count": 15,
   "metadata": {},
   "outputs": [],
   "source": [
    "block = Blockchain()"
   ]
  },
  {
   "cell_type": "code",
   "execution_count": 16,
   "metadata": {},
   "outputs": [
    {
     "name": "stdout",
     "output_type": "stream",
     "text": [
      "{'index': 2, 'timestamp': '2025-03-10 19:43:06.339103', 'data': 'second_block_2503101938', 'proof': 2, 'previous_hash': '0'}\n"
     ]
    }
   ],
   "source": [
    "block_2nd = block._create_block(data = \"second_block_2503101938\", index=2, proof=2, previous_hash=\"0\")\n",
    "print(block_2nd)"
   ]
  },
  {
   "cell_type": "code",
   "execution_count": 17,
   "metadata": {},
   "outputs": [
    {
     "name": "stdout",
     "output_type": "stream",
     "text": [
      "duration : 0.04399824142456055 seconds\n",
      "{'index': 2, 'timestamp': '2025-03-10 19:43:08.830370', 'data': 'third_block_2503101939', 'proof': 66865, 'previous_hash': '3a3b0607c527f067e3ac20f744dea8333db6399781187f52b0714146b4cb90e8'}\n"
     ]
    }
   ],
   "source": [
    "import time \n",
    "init_time = time.time() \n",
    "block_3rd = block.mine_block(data = \"third_block_2503101939\")\n",
    "fini_time = time.time() \n",
    "print(f\"duration : {fini_time - init_time} seconds\")\n",
    "print(block_3rd)"
   ]
  },
  {
   "cell_type": "code",
   "execution_count": 18,
   "metadata": {},
   "outputs": [
    {
     "data": {
      "text/plain": [
       "[{'index': 1,\n",
       "  'timestamp': '2025-03-10 19:42:42.473388',\n",
       "  'data': 'genesis block',\n",
       "  'proof': 1,\n",
       "  'previous_hash': '0'},\n",
       " {'index': 2,\n",
       "  'timestamp': '2025-03-10 19:43:08.830370',\n",
       "  'data': 'third_block_2503101939',\n",
       "  'proof': 66865,\n",
       "  'previous_hash': '3a3b0607c527f067e3ac20f744dea8333db6399781187f52b0714146b4cb90e8'}]"
      ]
     },
     "execution_count": 18,
     "metadata": {},
     "output_type": "execute_result"
    }
   ],
   "source": [
    "block.chain"
   ]
  },
  {
   "cell_type": "code",
   "execution_count": null,
   "metadata": {},
   "outputs": [],
   "source": []
  }
 ],
 "metadata": {
  "kernelspec": {
   "display_name": "Python 3",
   "language": "python",
   "name": "python3"
  },
  "language_info": {
   "codemirror_mode": {
    "name": "ipython",
    "version": 3
   },
   "file_extension": ".py",
   "mimetype": "text/x-python",
   "name": "python",
   "nbconvert_exporter": "python",
   "pygments_lexer": "ipython3",
   "version": "3.11.8"
  }
 },
 "nbformat": 4,
 "nbformat_minor": 2
}
