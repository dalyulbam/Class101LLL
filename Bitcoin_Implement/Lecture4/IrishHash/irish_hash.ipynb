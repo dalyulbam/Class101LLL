{
 "cells": [
  {
   "cell_type": "markdown",
   "id": "31f8a784",
   "metadata": {},
   "source": [
    "# image to byte"
   ]
  },
  {
   "cell_type": "code",
   "execution_count": null,
   "id": "bc633813",
   "metadata": {},
   "outputs": [],
   "source": [
    "import base64\n",
    "from PIL import Image\n",
    "import io\n",
    "from tkinter.filedialog import askopenfilename \n",
    "import cv2\n",
    "\n",
    "# 파일에서 직접 base64로 변환\n",
    "def image_to_base64(image_path):\n",
    "    with open(image_path, \"rb\") as img_file:\n",
    "        return base64.b64encode(img_file.read()).decode('utf-8')\n",
    "\n",
    "def cv2_image_to_base64(cv_image, format='.jpg'):\n",
    "    \"\"\"\n",
    "    cv2 이미지 객체를 base64 문자열로 변환\n",
    "    \n",
    "    Args:\n",
    "        cv_image: cv2로 읽은 이미지 (numpy array)\n",
    "        format: 이미지 포맷 ('.jpg', '.png' 등)\n",
    "    \n",
    "    Returns:\n",
    "        base64 인코딩된 문자열\n",
    "    \"\"\"\n",
    "    # cv2 이미지를 메모리상의 바이트로 인코딩\n",
    "    _, buffer = cv2.imencode(format, cv_image)\n",
    "    \n",
    "    # 바이트를 base64로 변환\n",
    "    img_base64 = base64.b64encode(buffer).decode('utf-8')\n",
    "    \n",
    "    return img_base64\n",
    "\n",
    "# PIL Image 객체를 base64로 변환\n",
    "def pil_to_base64(image):\n",
    "    buffer = io.BytesIO()\n",
    "    image.save(buffer, format='PNG')\n",
    "    img_str = base64.b64encode(buffer.getvalue()).decode()\n",
    "    return f\"data:image/png;base64,{img_str}\"\n",
    "\n",
    "# 사용 예시\n",
    "img_dir = askopenfilename(title=\"이미지 파일을 선택하세요\", filetypes=[(\"Image files\", \"*.jpg;*.jpeg;*.png\")])\n",
    "image = cv2.imread(img_dir)\n",
    "resized_image = cv2.resize(image, (64, 64))\n",
    "base64_string = image_to_base64(img_dir)\n",
    "print(f\"data:image/jpeg;base64,{base64_string}\")"
   ]
  },
  {
   "cell_type": "markdown",
   "id": "251e18e7",
   "metadata": {},
   "source": [
    "# Image Hash"
   ]
  },
  {
   "cell_type": "markdown",
   "id": "3c79335d",
   "metadata": {},
   "source": []
  }
 ],
 "metadata": {
  "kernelspec": {
   "display_name": "Python 3",
   "language": "python",
   "name": "python3"
  },
  "language_info": {
   "name": "python",
   "version": "3.11.8"
  }
 },
 "nbformat": 4,
 "nbformat_minor": 5
}
