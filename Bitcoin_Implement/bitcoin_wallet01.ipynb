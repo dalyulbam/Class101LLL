{
 "cells": [
  {
   "cell_type": "code",
   "execution_count": null,
   "metadata": {},
   "outputs": [
    {
     "name": "stdout",
     "output_type": "stream",
     "text": [
      "Collecting bit\n",
      "  Downloading bit-0.8.0-py3-none-any.whl.metadata (4.9 kB)\n",
      "Collecting coincurve>=4.3.0 (from bit)\n",
      "  Downloading coincurve-21.0.0-cp311-cp311-win_amd64.whl.metadata (4.0 kB)\n",
      "Requirement already satisfied: requests in c:\\users\\user\\appdata\\local\\programs\\python\\python311\\lib\\site-packages (from bit) (2.32.3)\n",
      "Requirement already satisfied: charset-normalizer<4,>=2 in c:\\users\\user\\appdata\\local\\programs\\python\\python311\\lib\\site-packages (from requests->bit) (3.3.2)\n",
      "Requirement already satisfied: idna<4,>=2.5 in c:\\users\\user\\appdata\\local\\programs\\python\\python311\\lib\\site-packages (from requests->bit) (3.7)\n",
      "Requirement already satisfied: urllib3<3,>=1.21.1 in c:\\users\\user\\appdata\\local\\programs\\python\\python311\\lib\\site-packages (from requests->bit) (2.2.2)\n",
      "Requirement already satisfied: certifi>=2017.4.17 in c:\\users\\user\\appdata\\local\\programs\\python\\python311\\lib\\site-packages (from requests->bit) (2024.7.4)\n",
      "Downloading bit-0.8.0-py3-none-any.whl (68 kB)\n",
      "Downloading coincurve-21.0.0-cp311-cp311-win_amd64.whl (1.3 MB)\n",
      "   ---------------------------------------- 0.0/1.3 MB ? eta -:--:--\n",
      "   ------------------------------- -------- 1.0/1.3 MB 10.1 MB/s eta 0:00:01\n",
      "   ---------------------------------------- 1.3/1.3 MB 3.8 MB/s eta 0:00:00\n",
      "Installing collected packages: coincurve, bit\n",
      "Successfully installed bit-0.8.0 coincurve-21.0.0\n"
     ]
    },
    {
     "name": "stderr",
     "output_type": "stream",
     "text": [
      "\n",
      "[notice] A new release of pip is available: 24.3.1 -> 25.0.1\n",
      "[notice] To update, run: python.exe -m pip install --upgrade pip\n"
     ]
    }
   ],
   "source": [
    "!pip install bit \n"
   ]
  },
  {
   "cell_type": "code",
   "execution_count": 8,
   "metadata": {},
   "outputs": [
    {
     "name": "stdout",
     "output_type": "stream",
     "text": [
      "Collecting base58\n",
      "  Downloading base58-2.1.1-py3-none-any.whl.metadata (3.1 kB)\n",
      "Downloading base58-2.1.1-py3-none-any.whl (5.6 kB)\n",
      "Installing collected packages: base58\n",
      "Successfully installed base58-2.1.1\n"
     ]
    },
    {
     "name": "stderr",
     "output_type": "stream",
     "text": [
      "\n",
      "[notice] A new release of pip is available: 24.3.1 -> 25.0.1\n",
      "[notice] To update, run: python.exe -m pip install --upgrade pip\n"
     ]
    }
   ],
   "source": [
    "!pip install base58"
   ]
  },
  {
   "cell_type": "code",
   "execution_count": 3,
   "metadata": {},
   "outputs": [
    {
     "name": "stdout",
     "output_type": "stream",
     "text": [
      "개인 키 (WIF)    : L21eFjfoLVDNsZryXDv1kGVdhGC71AHtNMJPA2EC8RsW4v8DjJah\n",
      "비트코인 주소    : 1K9n4exTrvrgkah9iNLv8cqtAoDZPTRL29\n",
      "공개 키         : 021cc70878de12bb4993b2cd13231b37fef1c5b2a728cdce610433c3703966c887\n",
      "잔액           : 0\n",
      "잔액 USD       : 0\n"
     ]
    }
   ],
   "source": [
    "from bit import Key \n",
    "\n",
    "# 새로운 비트코인 지갑 생성 \n",
    "wallet = Key() \n",
    "\n",
    "# \n",
    "print(f\"개인 키 (WIF)    : {wallet.to_wif()}\")\n",
    "print(f\"비트코인 주소    : {wallet.address}\")\n",
    "print(f\"공개 키         : {wallet.public_key.hex()}\")\n",
    "print(f\"잔액           : {wallet.balance}\")\n",
    "print(f\"잔액 USD       : {wallet.get_balance('usd')}\")"
   ]
  },
  {
   "cell_type": "markdown",
   "metadata": {},
   "source": [
    "#### 개인키로 지갑 주소 복구 "
   ]
  },
  {
   "cell_type": "code",
   "execution_count": 6,
   "metadata": {},
   "outputs": [
    {
     "name": "stdout",
     "output_type": "stream",
     "text": [
      "1K9n4exTrvrgkah9iNLv8cqtAoDZPTRL29\n"
     ]
    }
   ],
   "source": [
    "private_key_wif = f\"{wallet.to_wif()}\"\n",
    "wallet_org = Key(private_key_wif)\n",
    "print(wallet_org.address)\n"
   ]
  },
  {
   "cell_type": "markdown",
   "metadata": {},
   "source": [
    "개인 키 → 공개 키 (가능 ✅)\n",
    "\n",
    "공개 키 → 개인 키 (불가능 ❌)"
   ]
  },
  {
   "cell_type": "code",
   "execution_count": null,
   "metadata": {},
   "outputs": [
    {
     "name": "stdout",
     "output_type": "stream",
     "text": [
      "비트코인 주소: 1K9n4exTrvrgkah9iNLv8cqtAoDZPTRL29\n"
     ]
    }
   ],
   "source": [
    "import base58\n",
    "import hashlib \n",
    "\n",
    "# 0. hex 문자열 공개키를 다시 bytes 값으로 돌려놓는다. \n",
    "public_key = bytes.fromhex(\"021cc70878de12bb4993b2cd13231b37fef1c5b2a728cdce610433c3703966c887\")\n",
    "\n",
    "# 1. SHA-256 해싱\n",
    "sha256_bpk = hashlib.sha256(public_key).digest()\n",
    "\n",
    "# 2. RIPEMD-160 해싱\n",
    "ripemd160_bpk = hashlib.new('ripemd160', sha256_bpk).digest()\n",
    "\n",
    "# 3. 네트워크 바이트 추가 (Mainnet: 0x00)\n",
    "network_byte = b'\\x00' + ripemd160_bpk\n",
    "\n",
    "# 4. 더블 SHA-256 해싱 → 체크섬 생성\n",
    "checksum = hashlib.sha256(hashlib.sha256(network_byte).digest()).digest()[:4]\n",
    "\n",
    "# 5. Base58Check 인코딩\n",
    "bitcoin_address = base58.b58encode(network_byte + checksum).decode()\n",
    "print(f\"비트코인 주소: {bitcoin_address}\")"
   ]
  },
  {
   "cell_type": "markdown",
   "metadata": {},
   "source": [
    "### ripemd160"
   ]
  },
  {
   "cell_type": "code",
   "execution_count": 31,
   "metadata": {},
   "outputs": [
    {
     "name": "stdout",
     "output_type": "stream",
     "text": [
      "sha256_bpk : ab415bb711f24aab152ba5526fe883fe01f459a19a410e9c68865ca63460ff97\n",
      "ripemd160_bpk : c71b3560ac5ec9c2d80db04da31f8512e7f4b913\n"
     ]
    }
   ],
   "source": [
    "print(f\"sha256_bpk : {sha256_bpk.hex()}\")\n",
    "print(f\"ripemd160_bpk : {ripemd160_bpk.hex()}\")"
   ]
  },
  {
   "cell_type": "code",
   "execution_count": null,
   "metadata": {},
   "outputs": [],
   "source": [
    "import os \n",
    "import ecdsa \n",
    "import hashlib\n",
    "import base58\n",
    "\n",
    "# 1. 랜덤 32바이트(256비트) 개인 키 생성\n",
    "private_key = os.urandom(32)\n",
    "\n",
    "# 2. 개인 키를 16진수로 변환\n",
    "private_key_hex = private_key.hex()\n",
    "print(f\"개인 키: {private_key_hex}\")"
   ]
  }
 ],
 "metadata": {
  "kernelspec": {
   "display_name": "Python 3",
   "language": "python",
   "name": "python3"
  },
  "language_info": {
   "codemirror_mode": {
    "name": "ipython",
    "version": 3
   },
   "file_extension": ".py",
   "mimetype": "text/x-python",
   "name": "python",
   "nbconvert_exporter": "python",
   "pygments_lexer": "ipython3",
   "version": "3.11.9"
  }
 },
 "nbformat": 4,
 "nbformat_minor": 2
}
